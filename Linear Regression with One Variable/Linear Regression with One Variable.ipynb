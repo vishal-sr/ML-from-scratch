{
 "cells": [
  {
   "cell_type": "markdown",
   "metadata": {},
   "source": [
    "# Linear Regression with One Variable in Python from Scratch"
   ]
  },
  {
   "cell_type": "markdown",
   "metadata": {},
   "source": [
    "## Import the required libraries"
   ]
  },
  {
   "cell_type": "code",
   "execution_count": 1,
   "metadata": {},
   "outputs": [],
   "source": [
    "import numpy as np\n",
    "import matplotlib.pyplot as plt\n",
    "import pandas as pd"
   ]
  },
  {
   "cell_type": "markdown",
   "metadata": {},
   "source": [
    "## Load the dataset"
   ]
  },
  {
   "cell_type": "code",
   "execution_count": 2,
   "metadata": {},
   "outputs": [
    {
     "data": {
      "text/html": [
       "<div>\n",
       "<style scoped>\n",
       "    .dataframe tbody tr th:only-of-type {\n",
       "        vertical-align: middle;\n",
       "    }\n",
       "\n",
       "    .dataframe tbody tr th {\n",
       "        vertical-align: top;\n",
       "    }\n",
       "\n",
       "    .dataframe thead th {\n",
       "        text-align: right;\n",
       "    }\n",
       "</style>\n",
       "<table border=\"1\" class=\"dataframe\">\n",
       "  <thead>\n",
       "    <tr style=\"text-align: right;\">\n",
       "      <th></th>\n",
       "      <th>x</th>\n",
       "      <th>y</th>\n",
       "    </tr>\n",
       "  </thead>\n",
       "  <tbody>\n",
       "    <tr>\n",
       "      <th>0</th>\n",
       "      <td>77</td>\n",
       "      <td>79.775152</td>\n",
       "    </tr>\n",
       "    <tr>\n",
       "      <th>1</th>\n",
       "      <td>21</td>\n",
       "      <td>23.177279</td>\n",
       "    </tr>\n",
       "    <tr>\n",
       "      <th>2</th>\n",
       "      <td>22</td>\n",
       "      <td>25.609262</td>\n",
       "    </tr>\n",
       "    <tr>\n",
       "      <th>3</th>\n",
       "      <td>20</td>\n",
       "      <td>17.857388</td>\n",
       "    </tr>\n",
       "    <tr>\n",
       "      <th>4</th>\n",
       "      <td>36</td>\n",
       "      <td>41.849864</td>\n",
       "    </tr>\n",
       "  </tbody>\n",
       "</table>\n",
       "</div>"
      ],
      "text/plain": [
       "    x          y\n",
       "0  77  79.775152\n",
       "1  21  23.177279\n",
       "2  22  25.609262\n",
       "3  20  17.857388\n",
       "4  36  41.849864"
      ]
     },
     "execution_count": 2,
     "metadata": {},
     "output_type": "execute_result"
    }
   ],
   "source": [
    "data = pd.read_csv('linear_regression.csv')\n",
    "data.head()"
   ]
  },
  {
   "cell_type": "markdown",
   "metadata": {},
   "source": [
    "## Split the dataset into X (Features) and y (Target)"
   ]
  },
  {
   "cell_type": "code",
   "execution_count": 3,
   "metadata": {},
   "outputs": [],
   "source": [
    "x = data.iloc[:, -2].values\n",
    "y = data.iloc[:, -1].values"
   ]
  },
  {
   "cell_type": "markdown",
   "metadata": {},
   "source": [
    "## Feature Scaling"
   ]
  },
  {
   "cell_type": "markdown",
   "metadata": {},
   "source": [
    "<style>\n",
    "td {\n",
    "  font-size: 200px\n",
    "}\n",
    "</style>\n",
    "Feature scaling is a method used to normalize the range of independent variables or features of data."
   ]
  },
  {
   "cell_type": "code",
   "execution_count": 4,
   "metadata": {},
   "outputs": [],
   "source": [
    "s = np.std(x)    \n",
    "m = np.mean(x)\n",
    "def feature_scaling(variable):\n",
    "    global m\n",
    "    global s\n",
    "    lst = []\n",
    "    for i in variable:\n",
    "        fs_x = (i - m) / s\n",
    "        lst.append(fs_x)\n",
    "    variable = np.array(lst)\n",
    "    \n",
    "    return variable"
   ]
  },
  {
   "cell_type": "code",
   "execution_count": 5,
   "metadata": {},
   "outputs": [],
   "source": [
    "X = feature_scaling(x)"
   ]
  },
  {
   "cell_type": "markdown",
   "metadata": {},
   "source": [
    "## Cost function of linear regression"
   ]
  },
  {
   "cell_type": "markdown",
   "metadata": {},
   "source": [
    "Cost function(J) of Linear Regression is the Root Mean Squared Error (RMSE) between predicted y value (pred) and true y value (y).\n",
    "![alt text](https://i.stack.imgur.com/O752N.png \"1_1\")"
   ]
  },
  {
   "cell_type": "code",
   "execution_count": 2,
   "metadata": {},
   "outputs": [],
   "source": [
    "def cost(X, y, t0, t1):\n",
    "    cost = 0\n",
    "    m = float(len(X))\n",
    "    \n",
    "    for i in range(len(X)):\n",
    "        cost += ((t0 + t1 * X[i]) - y[i]) ** 2\n",
    "    \n",
    "    return cost / (2 * m)"
   ]
  },
  {
   "cell_type": "markdown",
   "metadata": {},
   "source": [
    "### Goal"
   ]
  },
  {
   "cell_type": "markdown",
   "metadata": {},
   "source": [
    "Our main goal, is to reduce the cost as much as possible (minimize J(theta0, theta1))."
   ]
  },
  {
   "cell_type": "markdown",
   "metadata": {},
   "source": [
    "In order to minimize the cost, GRADIENT DESCENT method is used.\n",
    "![alt text](https://miro.medium.com/max/900/1*G3evFxIAlDchOx5Wl7bV5g.png \"1_2\")"
   ]
  },
  {
   "cell_type": "markdown",
   "metadata": {},
   "source": [
    "## Gradient Descent\n",
    "Gradient descent is an optimization algorithm used to minimize some function(here cost function) by iteratively moving in the direction of steepest descent as defined by the negative of the gradient. In machine learning, we use gradient descent to update the parameters of our model.\n",
    "![alt text](https://miro.medium.com/max/1200/1*laN3aseisIU3T9QTIlob4Q.gif \"1_3\")"
   ]
  },
  {
   "cell_type": "code",
   "execution_count": 7,
   "metadata": {},
   "outputs": [],
   "source": [
    "def gradient_update(X, y, t0_current, t1_current, alpha):\n",
    "    t0_gradient = 0  #Initialising d/d(t0) to 0\n",
    "    t1_gradient = 0  #Initialising d/d(t1) to 0\n",
    "    m = float(len(X))  \n",
    "    \n",
    "    for i in range(len(X)):\n",
    "        t0_gradient += 1/m * ((t0_current + t1_current * X[i]) - y[i])\n",
    "        t1_gradient += 1/m * ((t0_current + t1_current * X[i]) - y[i]) * X[i]\n",
    "        \n",
    "    new_t0 = t0_current - alpha * t0_gradient  #Updating for t0\n",
    "    new_t1 = t1_current - alpha * t1_gradient  #Updating for t1\n",
    "    \n",
    "    return new_t0, new_t1\n",
    "    \n",
    "def gradient_descent(X, y, t0, t1, n_iter, alpha):\n",
    "       \n",
    "    for i in range(n_iter):\n",
    "        t0, t1 = gradient_update(X, y, t0, t1, alpha)  #Updating t0 and t1 iteratively.\n",
    "    \n",
    "    return t0, t1"
   ]
  },
  {
   "cell_type": "markdown",
   "metadata": {},
   "source": [
    "## Running the Gradient Descent iteratively to get optimal t0 and t1 with minimized cost"
   ]
  },
  {
   "cell_type": "markdown",
   "metadata": {},
   "source": [
    "t0 -> theta 0<br>\n",
    "t1 -> theta 1<br>\n",
    "n_iter -> Number of iteration to run gradient descent (minimum 1000)<br>\n",
    "alpha -> Learning rate (generally 0.01, 0.1, 0.05)<br>"
   ]
  },
  {
   "cell_type": "code",
   "execution_count": 8,
   "metadata": {},
   "outputs": [
    {
     "name": "stdout",
     "output_type": "stream",
     "text": [
      "Before running gradient descent \n",
      "theta_0 = 0, \n",
      "theta_1 = 0, \n",
      "Cost = 1732.1455435695395\n",
      "\n",
      "Running...\n",
      "\n",
      "After running gradient descent \n",
      "theta_0 = 51.20505100284292, \n",
      "theta_1 = 28.86467630505649, \n",
      "Cost = 4.582143930307139\n"
     ]
    }
   ],
   "source": [
    "t0 = 0  #Initialising t0 as 0\n",
    "t1 = 0  #Initialising t1 as 0\n",
    "\n",
    "n_iter = 2000  #Number of iteration (minimum 1000)\n",
    "alpha = 0.01  #Learning Rate (generally 0.01, 0.1, 0.05)\n",
    "\n",
    "print('Before running gradient descent \\ntheta_0 = {0}, \\ntheta_1 = {1}, \\nCost = {2}'.format(t0, t1, cost(X, y, t0, t1)))\n",
    "print('\\nRunning...')\n",
    "\n",
    "t0, t1 = gradient_descent(X, y, t0, t1, n_iter, alpha)  #Running Gradient Descent\n",
    "\n",
    "print('\\nAfter running gradient descent \\ntheta_0 = {0}, \\ntheta_1 = {1}, \\nCost = {2}'.format(t0, t1, cost(X, y, t0, t1)))"
   ]
  },
  {
   "cell_type": "markdown",
   "metadata": {},
   "source": [
    "### Model is ready for prediction-------------------------------------------------------------------!!!"
   ]
  },
  {
   "cell_type": "markdown",
   "metadata": {},
   "source": [
    "## Plotting the regression line (best-fit line)"
   ]
  },
  {
   "cell_type": "code",
   "execution_count": 9,
   "metadata": {},
   "outputs": [
    {
     "data": {
      "text/plain": [
       "Text(0.5, 1.0, 'X vs y')"
      ]
     },
     "execution_count": 9,
     "metadata": {},
     "output_type": "execute_result"
    },
    {
     "data": {
      "image/png": "[encoded data removed]",
      "text/plain": [
       "<Figure size 432x288 with 1 Axes>"
      ]
     },
     "metadata": {
      "needs_background": "light"
     },
     "output_type": "display_data"
    }
   ],
   "source": [
    "plt.scatter(X, y, color = 'r', alpha = 0.4)\n",
    "plt.plot(X, t0 + t1 * X, color = 'b', linewidth = 2)\n",
    "plt.xlabel('X (feature)')\n",
    "plt.ylabel('y (target)')\n",
    "plt.title('X vs y')"
   ]
  },
  {
   "cell_type": "markdown",
   "metadata": {},
   "source": [
    "## Prediction"
   ]
  },
  {
   "cell_type": "code",
   "execution_count": 10,
   "metadata": {},
   "outputs": [],
   "source": [
    "def predict(pred):\n",
    "    pred = feature_scaling([pred])\n",
    "    \n",
    "    return t0 + t1 * pred"
   ]
  },
  {
   "cell_type": "code",
   "execution_count": 11,
   "metadata": {},
   "outputs": [
    {
     "data": {
      "text/plain": [
       "array([[ 70.54166395, 100.97172455,  82.71368819,  64.96281951,\n",
       "         93.25027925]])"
      ]
     },
     "execution_count": 11,
     "metadata": {},
     "output_type": "execute_result"
    }
   ],
   "source": [
    "predict([70, 100, 82, 64.5, 92.38768])  #You can pass list, array, single int or float"
   ]
  },
  {
   "cell_type": "markdown",
   "metadata": {},
   "source": [
    "# Thank you !!!....................................................................."
   ]
  }
 ],
 "metadata": {
  "kernelspec": {
   "display_name": "Python 3",
   "language": "python",
   "name": "python3"
  },
  "language_info": {
   "codemirror_mode": {
    "name": "ipython",
    "version": 3
   },
   "file_extension": ".py",
   "mimetype": "text/x-python",
   "name": "python",
   "nbconvert_exporter": "python",
   "pygments_lexer": "ipython3",
   "version": "3.7.6"
  }
 },
 "nbformat": 4,
 "nbformat_minor": 4
}
