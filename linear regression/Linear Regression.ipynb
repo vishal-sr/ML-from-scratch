{
 "cells": [
  {
   "cell_type": "markdown",
   "metadata": {},
   "source": [
    "# Linear Regression in Python from Scratch"
   ]
  },
  {
   "cell_type": "markdown",
   "metadata": {},
   "source": [
    "## Import the required libraries "
   ]
  },
  {
   "cell_type": "code",
   "execution_count": 2,
   "metadata": {},
   "outputs": [],
   "source": [
    "#import required libraries\n",
    "import numpy as np # for matrix operations\n",
    "import pandas as pd # for data manipulation"
   ]
  },
  {
   "cell_type": "markdown",
   "metadata": {},
   "source": [
    "## Implementation of Linear Regression"
   ]
  },
  {
   "cell_type": "code",
   "execution_count": 3,
   "metadata": {},
   "outputs": [],
   "source": [
    "class LinearRegression:\n",
    "    \"\"\"\n",
    "    Description: Linear regression is a model which finds the relationship between \n",
    "                 dependent variable vs independent variables(one or more) by fitting \n",
    "                 line to the data.\n",
    "    \"\"\"\n",
    "    \n",
    "    def __init__(self, alpha = 0.01, n_iter = 3000):\n",
    "        \n",
    "        # alpha -> learning rate.(Initially 0.01, generally - 0.001, 0.01, 0.1, 0.5, 1)\n",
    "        # n_iter -> total number of gradient descent steps to take. (Initially 3000, minimum - 1000 iterations)\n",
    "        # weights & bias -> coefficients of each feature (if there is n number of features\n",
    "        #                                               then n number of weights and one bias will be there).\n",
    "        #                                               In [y = m*x+c], m -> weights and c -> bias.\n",
    "        \n",
    "        self.alpha = alpha\n",
    "        self.n_iter = n_iter\n",
    "        self.weights = None\n",
    "        self.bias = None\n",
    "    \n",
    "    def mean_squared_error(self, X, y): # also called cost function\n",
    "        \n",
    "        # mean_squared_error (MSE) -> Average squared distance between predicted value and actual value.\n",
    "        #                            the word average(mean) used because the error is calculated for each \n",
    "        #                            training examples and took the average(mean) for all training examples.\n",
    "        # the term (np.dot(X, self.weights) + self.bias) is the predicted value of every train examples.\n",
    "        # y - actual value of every training examples.\n",
    "        \n",
    "        error = np.sum(((np.dot(X, self.weights) + self.bias) - y) ** 2)\n",
    "        return error / (2 * float(len(X)))\n",
    "            \n",
    "    def fit(self, X, y):\n",
    "        \n",
    "        # fitting the training examples.\n",
    "        \n",
    "        n_samples, n_features = X.shape # n_samples -> total number of training examples.\n",
    "                                        # n_features -> total number of features in each training examples.\n",
    "            \n",
    "        self.weights = np.zeros(n_features) # initializing weights to n_features number of zeros.\n",
    "        self.bias = 0 # initializing bias to zero.\n",
    "        \n",
    "        for _ in range(self.n_iter): \n",
    "            \n",
    "            # for loop to run gradient descent.\n",
    "            # each loop means each gradient descent step.\n",
    "        \n",
    "            y_predicted = np.dot(X, self.weights) + self.bias # y_predicted -> predicted value of each train examples.\n",
    "            \n",
    "            dw = (1 / n_samples) * np.dot(X.T, (y_predicted - y)) # differentiate cost function with respect to weights.\n",
    "            db = (1 / n_samples) * np.sum(y_predicted - y) # differentiate cost function with respect to bias.\n",
    "    \n",
    "            self.weights -= self.alpha * dw # Updating the weights (taking one step of gradient descent).\n",
    "            self.bias -= self.alpha * db # Updating the bias (taking one step of gradient descent).\n",
    "            \n",
    "    def predict(self, data):\n",
    "        \n",
    "        # getting new data and predicting the target variable(dependent variable)\n",
    "        \n",
    "        return np.dot(data, self.weights) + self.bias"
   ]
  },
  {
   "cell_type": "markdown",
   "metadata": {},
   "source": [
    "## Importing the dataset"
   ]
  },
  {
   "cell_type": "code",
   "execution_count": 4,
   "metadata": {},
   "outputs": [],
   "source": [
    "data = pd.read_csv('50_startups.csv')"
   ]
  },
  {
   "cell_type": "code",
   "execution_count": 5,
   "metadata": {},
   "outputs": [
    {
     "data": {
      "text/html": [
       "<div>\n",
       "<style scoped>\n",
       "    .dataframe tbody tr th:only-of-type {\n",
       "        vertical-align: middle;\n",
       "    }\n",
       "\n",
       "    .dataframe tbody tr th {\n",
       "        vertical-align: top;\n",
       "    }\n",
       "\n",
       "    .dataframe thead th {\n",
       "        text-align: right;\n",
       "    }\n",
       "</style>\n",
       "<table border=\"1\" class=\"dataframe\">\n",
       "  <thead>\n",
       "    <tr style=\"text-align: right;\">\n",
       "      <th></th>\n",
       "      <th>R&amp;D Spend</th>\n",
       "      <th>Administration</th>\n",
       "      <th>Marketing Spend</th>\n",
       "      <th>State</th>\n",
       "      <th>Profit</th>\n",
       "    </tr>\n",
       "  </thead>\n",
       "  <tbody>\n",
       "    <tr>\n",
       "      <th>0</th>\n",
       "      <td>165349.20</td>\n",
       "      <td>136897.80</td>\n",
       "      <td>471784.10</td>\n",
       "      <td>New York</td>\n",
       "      <td>192261.83</td>\n",
       "    </tr>\n",
       "    <tr>\n",
       "      <th>1</th>\n",
       "      <td>162597.70</td>\n",
       "      <td>151377.59</td>\n",
       "      <td>443898.53</td>\n",
       "      <td>California</td>\n",
       "      <td>191792.06</td>\n",
       "    </tr>\n",
       "    <tr>\n",
       "      <th>2</th>\n",
       "      <td>153441.51</td>\n",
       "      <td>101145.55</td>\n",
       "      <td>407934.54</td>\n",
       "      <td>Florida</td>\n",
       "      <td>191050.39</td>\n",
       "    </tr>\n",
       "    <tr>\n",
       "      <th>3</th>\n",
       "      <td>144372.41</td>\n",
       "      <td>118671.85</td>\n",
       "      <td>383199.62</td>\n",
       "      <td>New York</td>\n",
       "      <td>182901.99</td>\n",
       "    </tr>\n",
       "    <tr>\n",
       "      <th>4</th>\n",
       "      <td>142107.34</td>\n",
       "      <td>91391.77</td>\n",
       "      <td>366168.42</td>\n",
       "      <td>Florida</td>\n",
       "      <td>166187.94</td>\n",
       "    </tr>\n",
       "  </tbody>\n",
       "</table>\n",
       "</div>"
      ],
      "text/plain": [
       "   R&D Spend  Administration  Marketing Spend       State     Profit\n",
       "0  165349.20       136897.80        471784.10    New York  192261.83\n",
       "1  162597.70       151377.59        443898.53  California  191792.06\n",
       "2  153441.51       101145.55        407934.54     Florida  191050.39\n",
       "3  144372.41       118671.85        383199.62    New York  182901.99\n",
       "4  142107.34        91391.77        366168.42     Florida  166187.94"
      ]
     },
     "execution_count": 5,
     "metadata": {},
     "output_type": "execute_result"
    }
   ],
   "source": [
    "data.head()"
   ]
  },
  {
   "cell_type": "markdown",
   "metadata": {},
   "source": [
    "## Data Description:\n",
    "\n",
    "Here, I used 50 startups dataset, this dataset contains R&D spend, Administration Spend, Marketing Spend, Location of the startup (State), and profit for 50 startups.<br>\n",
    "<br>\n",
    "Independent variable ---> R&D Spend, Administration, Marketing Spend, and State.<br>\n",
    "Dependent variable ---> Profit.<br>\n",
    "<br>\n",
    "With the help of independent variables the model gonna predict the profit(Dependent variable)."
   ]
  },
  {
   "cell_type": "code",
   "execution_count": 6,
   "metadata": {},
   "outputs": [],
   "source": [
    "X = data.iloc[:, :-1]\n",
    "y = data.iloc[:, -1].values"
   ]
  },
  {
   "cell_type": "markdown",
   "metadata": {},
   "source": [
    "## Handling categorical data(s)"
   ]
  },
  {
   "cell_type": "markdown",
   "metadata": {},
   "source": [
    "In this dataset (50 Startups), 'State' column is of type string(categorical), all columns must be int64 or float64 (numerical) as model gonna perform numerical operations. So, we have to convert categorical column into numerical column"
   ]
  },
  {
   "cell_type": "code",
   "execution_count": 7,
   "metadata": {},
   "outputs": [],
   "source": [
    "def categorical_to_numerical(data):\n",
    "    columns = data.columns.values # getting the columns of the dataset\n",
    "    \n",
    "    for column in columns: # runs the loop for every column of the dataset.\n",
    "        numerical_value_dict = {} # creating an empty dictionary (initially).\n",
    "                                  # the dictionary will contain categorical value of \n",
    "                                  # a specific column and its numercal value.\n",
    "        \n",
    "        def get_numerical_value(categorical_value): # function will get the categorical value and fetch \n",
    "                                                    # the numerical value from numerical_value_dict \n",
    "                                                    # dictionary and return it.\n",
    "                    \n",
    "            return numerical_value_dict[categorical_value]\n",
    "        \n",
    "        if data[column].dtype != np.int64 and data[column].dtype != np.float64: \n",
    "                                                    # checking whether the column is numerical or not.\n",
    "                                                    # if the column is not numerical then the following set of code will\n",
    "                                                    # be executed.\n",
    "            \n",
    "            column_content = data[column].values.tolist() # fetching the elements of the column.\n",
    "            unique_elements = set(column_content) # storing the 'unique' elements of the column.\n",
    "            \n",
    "            x = 0\n",
    "            for unique in unique_elements: # runs for all the 'unique' value of the column.\n",
    "                if unique not in numerical_value_dict: # checking whether the numerical_value_dict dictionary contain this \n",
    "                                                       # 'unique' value, if not then it will add the 'unique' value as key and \n",
    "                                                       # 'x' as its value.\n",
    "                            \n",
    "                    numerical_value_dict[unique] = x   # adding 'unique' value and 'x'.\n",
    "                    x += 1 #increamenting 'x' to store next unique value.\n",
    "            \n",
    "            data[column] = list(map(get_numerical_value, data[column])) # mapping for all element of all categorical columns.\n",
    "            \n",
    "    return data"
   ]
  },
  {
   "cell_type": "markdown",
   "metadata": {},
   "source": [
    "Alternative - LabelEncoder() in sklearn.preprocessing "
   ]
  },
  {
   "cell_type": "code",
   "execution_count": 8,
   "metadata": {},
   "outputs": [],
   "source": [
    "X = categorical_to_numerical(X)"
   ]
  },
  {
   "cell_type": "markdown",
   "metadata": {},
   "source": [
    "## scaling data"
   ]
  },
  {
   "cell_type": "code",
   "execution_count": 9,
   "metadata": {},
   "outputs": [],
   "source": [
    "from sklearn.preprocessing import scale"
   ]
  },
  {
   "cell_type": "code",
   "execution_count": 10,
   "metadata": {},
   "outputs": [],
   "source": [
    "X = scale(X)"
   ]
  },
  {
   "cell_type": "markdown",
   "metadata": {},
   "source": [
    "## Fitting the dataset to LinearRegression class"
   ]
  },
  {
   "cell_type": "code",
   "execution_count": 11,
   "metadata": {},
   "outputs": [],
   "source": [
    "regressor = LinearRegression()"
   ]
  },
  {
   "cell_type": "code",
   "execution_count": 12,
   "metadata": {},
   "outputs": [],
   "source": [
    "regressor.fit(X, y)"
   ]
  },
  {
   "cell_type": "markdown",
   "metadata": {},
   "source": [
    "## Error of the model"
   ]
  },
  {
   "cell_type": "code",
   "execution_count": 13,
   "metadata": {},
   "outputs": [
    {
     "data": {
      "text/plain": [
       "39205701.624583885"
      ]
     },
     "execution_count": 13,
     "metadata": {},
     "output_type": "execute_result"
    }
   ],
   "source": [
    "regressor.mean_squared_error(X, y)"
   ]
  },
  {
   "cell_type": "markdown",
   "metadata": {},
   "source": [
    "## Weights of the model"
   ]
  },
  {
   "cell_type": "code",
   "execution_count": 14,
   "metadata": {},
   "outputs": [
    {
     "data": {
      "text/plain": [
       "array([36596.17794288,  -739.44677465,  3295.8165171 ,    76.93716101])"
      ]
     },
     "execution_count": 14,
     "metadata": {},
     "output_type": "execute_result"
    }
   ],
   "source": [
    "regressor.weights"
   ]
  },
  {
   "cell_type": "markdown",
   "metadata": {},
   "source": [
    "## Bias of the model"
   ]
  },
  {
   "cell_type": "code",
   "execution_count": 15,
   "metadata": {},
   "outputs": [
    {
     "data": {
      "text/plain": [
       "112012.63919999098"
      ]
     },
     "execution_count": 15,
     "metadata": {},
     "output_type": "execute_result"
    }
   ],
   "source": [
    "regressor.bias"
   ]
  },
  {
   "cell_type": "code",
   "execution_count": null,
   "metadata": {},
   "outputs": [],
   "source": []
  },
  {
   "cell_type": "code",
   "execution_count": null,
   "metadata": {},
   "outputs": [],
   "source": []
  },
  {
   "cell_type": "markdown",
   "metadata": {},
   "source": [
    "# ............................................Thank you!!!..............................................."
   ]
  },
  {
   "cell_type": "code",
   "execution_count": null,
   "metadata": {},
   "outputs": [],
   "source": []
  }
 ],
 "metadata": {
  "kernelspec": {
   "display_name": "Python 3",
   "language": "python",
   "name": "python3"
  },
  "language_info": {
   "codemirror_mode": {
    "name": "ipython",
    "version": 3
   },
   "file_extension": ".py",
   "mimetype": "text/x-python",
   "name": "python",
   "nbconvert_exporter": "python",
   "pygments_lexer": "ipython3",
   "version": "3.7.6"
  }
 },
 "nbformat": 4,
 "nbformat_minor": 4
}
