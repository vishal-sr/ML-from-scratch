{
 "cells": [
  {
   "cell_type": "markdown",
   "metadata": {},
   "source": [
    "# K Nearest Neighbors in Python from Scratch"
   ]
  },
  {
   "cell_type": "markdown",
   "metadata": {},
   "source": [
    "## Import the required libraries\n",
    "numpy -> for mathematical and matrix computation.<br>\n",
    "pandas -> handling and manipulating data(s).<br>\n",
    "matplotlib -> visualising data(s).<br>\n",
    "collection -> with collection we can do variuos operations but here I use it for Counter (count the number of occurance of same object).<br>\n",
    "warnings -> warning the user with some message.<br>\n",
    "random -> used to do some randomising operations.<br>"
   ]
  },
  {
   "cell_type": "code",
   "execution_count": 1,
   "metadata": {},
   "outputs": [],
   "source": [
    "import numpy as np\n",
    "import pandas as pd\n",
    "import matplotlib.pyplot as plt\n",
    "from collections import Counter\n",
    "import warnings\n",
    "import random"
   ]
  },
  {
   "cell_type": "markdown",
   "metadata": {},
   "source": [
    "## Load the dataset\n",
    "here Breast Tumor dataset is used to train the model with existing patient records to check whether the new patient have [begnin or malignant] breast tumor with the help of various features like clump_thickness, unif_cell_size, unif_cell_shape, marg_adhesion, single_epith_cell_size, bare_nuclei, bland_chrom, norm_nucleoli, mitoses, class.<br>\n",
    "<br>\n",
    "class<br>\n",
    "2 -> benign<br>\n",
    "4 -> malignant<br>"
   ]
  },
  {
   "cell_type": "code",
   "execution_count": 2,
   "metadata": {},
   "outputs": [
    {
     "data": {
      "text/html": [
       "<div>\n",
       "<style scoped>\n",
       "    .dataframe tbody tr th:only-of-type {\n",
       "        vertical-align: middle;\n",
       "    }\n",
       "\n",
       "    .dataframe tbody tr th {\n",
       "        vertical-align: top;\n",
       "    }\n",
       "\n",
       "    .dataframe thead th {\n",
       "        text-align: right;\n",
       "    }\n",
       "</style>\n",
       "<table border=\"1\" class=\"dataframe\">\n",
       "  <thead>\n",
       "    <tr style=\"text-align: right;\">\n",
       "      <th></th>\n",
       "      <th>id</th>\n",
       "      <th>clump_thickness</th>\n",
       "      <th>unif_cell_size</th>\n",
       "      <th>unif_cell_shape</th>\n",
       "      <th>marg_adhesion</th>\n",
       "      <th>single_epith_cell_size</th>\n",
       "      <th>bare_nuclei</th>\n",
       "      <th>bland_chrom</th>\n",
       "      <th>norm_nucleoli</th>\n",
       "      <th>mitoses</th>\n",
       "      <th>class</th>\n",
       "    </tr>\n",
       "  </thead>\n",
       "  <tbody>\n",
       "    <tr>\n",
       "      <th>0</th>\n",
       "      <td>1000025</td>\n",
       "      <td>5</td>\n",
       "      <td>1</td>\n",
       "      <td>1</td>\n",
       "      <td>1</td>\n",
       "      <td>2</td>\n",
       "      <td>1</td>\n",
       "      <td>3</td>\n",
       "      <td>1</td>\n",
       "      <td>1</td>\n",
       "      <td>2</td>\n",
       "    </tr>\n",
       "    <tr>\n",
       "      <th>1</th>\n",
       "      <td>1002945</td>\n",
       "      <td>5</td>\n",
       "      <td>4</td>\n",
       "      <td>4</td>\n",
       "      <td>5</td>\n",
       "      <td>7</td>\n",
       "      <td>10</td>\n",
       "      <td>3</td>\n",
       "      <td>2</td>\n",
       "      <td>1</td>\n",
       "      <td>2</td>\n",
       "    </tr>\n",
       "    <tr>\n",
       "      <th>2</th>\n",
       "      <td>1015425</td>\n",
       "      <td>3</td>\n",
       "      <td>1</td>\n",
       "      <td>1</td>\n",
       "      <td>1</td>\n",
       "      <td>2</td>\n",
       "      <td>2</td>\n",
       "      <td>3</td>\n",
       "      <td>1</td>\n",
       "      <td>1</td>\n",
       "      <td>2</td>\n",
       "    </tr>\n",
       "    <tr>\n",
       "      <th>3</th>\n",
       "      <td>1016277</td>\n",
       "      <td>6</td>\n",
       "      <td>8</td>\n",
       "      <td>8</td>\n",
       "      <td>1</td>\n",
       "      <td>3</td>\n",
       "      <td>4</td>\n",
       "      <td>3</td>\n",
       "      <td>7</td>\n",
       "      <td>1</td>\n",
       "      <td>2</td>\n",
       "    </tr>\n",
       "    <tr>\n",
       "      <th>4</th>\n",
       "      <td>1017023</td>\n",
       "      <td>4</td>\n",
       "      <td>1</td>\n",
       "      <td>1</td>\n",
       "      <td>3</td>\n",
       "      <td>2</td>\n",
       "      <td>1</td>\n",
       "      <td>3</td>\n",
       "      <td>1</td>\n",
       "      <td>1</td>\n",
       "      <td>2</td>\n",
       "    </tr>\n",
       "  </tbody>\n",
       "</table>\n",
       "</div>"
      ],
      "text/plain": [
       "        id  clump_thickness  unif_cell_size  unif_cell_shape  marg_adhesion  \\\n",
       "0  1000025                5               1                1              1   \n",
       "1  1002945                5               4                4              5   \n",
       "2  1015425                3               1                1              1   \n",
       "3  1016277                6               8                8              1   \n",
       "4  1017023                4               1                1              3   \n",
       "\n",
       "   single_epith_cell_size bare_nuclei  bland_chrom  norm_nucleoli  mitoses  \\\n",
       "0                       2           1            3              1        1   \n",
       "1                       7          10            3              2        1   \n",
       "2                       2           2            3              1        1   \n",
       "3                       3           4            3              7        1   \n",
       "4                       2           1            3              1        1   \n",
       "\n",
       "   class  \n",
       "0      2  \n",
       "1      2  \n",
       "2      2  \n",
       "3      2  \n",
       "4      2  "
      ]
     },
     "execution_count": 2,
     "metadata": {},
     "output_type": "execute_result"
    }
   ],
   "source": [
    "data = pd.read_csv('breast-cancer-wisconsin-data.txt')\n",
    "data.head()"
   ]
  },
  {
   "cell_type": "markdown",
   "metadata": {},
   "source": [
    "#### Handle the missing data\n",
    "Replace the missing data ('?') with -99999 (negative 99999).......Why -99999? This distance is pretty large compare to other data(s). so, -99999 will be considered as OUTLIERS "
   ]
  },
  {
   "cell_type": "code",
   "execution_count": 3,
   "metadata": {},
   "outputs": [],
   "source": [
    "data.replace('?', -99999, inplace = True)"
   ]
  },
  {
   "cell_type": "markdown",
   "metadata": {},
   "source": [
    "#### Remove/Drop 'id' column from the data\n",
    "As 'id' is unwanted."
   ]
  },
  {
   "cell_type": "code",
   "execution_count": 4,
   "metadata": {},
   "outputs": [],
   "source": [
    "data.drop(['id'], axis = 1, inplace = True)"
   ]
  },
  {
   "cell_type": "markdown",
   "metadata": {},
   "source": [
    "#### Change the type of the data to float and convert the whole data into array || Shuffle the data for randomness"
   ]
  },
  {
   "cell_type": "code",
   "execution_count": 5,
   "metadata": {},
   "outputs": [],
   "source": [
    "data = data.astype(float).values\n",
    "random.shuffle(data)"
   ]
  },
  {
   "cell_type": "markdown",
   "metadata": {},
   "source": [
    "## Split the data for training and testing dictionary\n",
    "test_size -> size of the testing data.<br>\n",
    "train_data, test_data -> dictionary used for training and testing the model.<br>\n",
    "training and testing dictionary consist of two keys [2, 4] 2 - benign tumor; 4 - malignant."
   ]
  },
  {
   "cell_type": "markdown",
   "metadata": {},
   "source": [
    "#### Setting parameters and initialising empty dictionary"
   ]
  },
  {
   "cell_type": "code",
   "execution_count": 6,
   "metadata": {},
   "outputs": [],
   "source": [
    "test_size = 1/4\n",
    "train_data = {2 : [], 4 : []}\n",
    "test_data = {2 : [], 4 : []}\n",
    "train = data[ : -int(test_size * len(data))]  # shape - (466, 10) fetching the data(s) from the main dataset (0 to test_size).\n",
    "                                              # suppose, the size of the dataset is 100 and the test_size is 1/4 (0.25)\n",
    "                                              # test_size * len(data) = 0.25 * 100 = 25 \n",
    "                                              # So, here data[ : -int(test_size * len(data))] represents the first 75 data(s)\n",
    "test = data[-int(test_size * len(data)) : ]  # shape - (233, 10) featching the remaining data(s) from test_size to last record\n",
    "                                             # suppose, the size of the dataset is 100 and the test_size is 1/4 (0.25)\n",
    "                                             # test_size * len(data) = 0.25 * 100 = 25 \n",
    "                                             # So, here data[-int(test_size * len(data)) : ] represents the last 25 data(s)"
   ]
  },
  {
   "cell_type": "markdown",
   "metadata": {},
   "source": [
    "#### Spliting the data"
   ]
  },
  {
   "cell_type": "code",
   "execution_count": 7,
   "metadata": {},
   "outputs": [],
   "source": [
    "for i in train:\n",
    "    train_data[i[-1]].append(i[:-1])# train_data consist of two keys 2 and 4\n",
    "                                    # i[-1] is the last column which is 'class' column of the dataset which can only be 2 or 4\n",
    "                                    # if i[-1] is 2 then except last column all other columns is appended to train_data of key 2\n",
    "                                    # same for i[-1] is 4\n",
    "    \n",
    "for i in test:\n",
    "    test_data[i[-1]].append(i[:-1])# test_data consist of two keys 2 and 4\n",
    "                                   # i[-1] is the last column which is 'class' column of the dataset which can only be 2 or 4\n",
    "                                   # if i[-1] is 2 then except last column all other columns is appended to test_data of key 2\n",
    "                                   # same for i[-1] is 4"
   ]
  },
  {
   "cell_type": "markdown",
   "metadata": {},
   "source": [
    "## K Nearest Neighbors\n",
    "K-NN algorithm stores all the available data and classifies a new data point based on the similarity. This means when new data appears then it can be easily classified into a well suite category by using K- NN algorithm.<br>\n",
    "K-NN algorithm can be used for Regression as well as for Classification but mostly it is used for the Classification problems.<br>\n",
    "![alt text](https://static.javatpoint.com/tutorial/machine-learning/images/k-nearest-neighbor-algorithm-for-machine-learning.png \"2_1\")\n",
    "\n",
    "![alt text](https://static.javatpoint.com/tutorial/machine-learning/images/k-nearest-neighbor-algorithm-for-machine-learning2.png \"2_2\")\n",
    "\n",
    "## Euclidean distance:\n",
    "![alt text](https://static.javatpoint.com/tutorial/machine-learning/images/k-nearest-neighbor-algorithm-for-machine-learning4.png \"2_3\")\n",
    "\n",
    "## Working of the algorithm:<br>\n",
    "In K-NN, when a new datapoint is introduced in the model,<br>\n",
    "......The algorithm will calculate the Euclidean distances from this point to each point. And store all the distances as a list.<br>\n",
    "......Then it sorts the list and fetch first k elements from the sorted list. (k - Number of neighbors).<br>\n",
    "......It counts the number of occurences of each classes and store it as list of tuples. list [ tuple ( class, number of occurence ), ... ]<br> \n",
    "where the list is sorted(descending order of number of occurence of the class)<br>\n",
    "......The first element of the list is the most occured class.<br>\n",
    "......So, the new datapoint belongs to this class.<br>\n",
    "\n",
    "Assume, here group and class are same"
   ]
  },
  {
   "cell_type": "code",
   "execution_count": 8,
   "metadata": {},
   "outputs": [],
   "source": [
    "def k_nearest_neighbors(data, predict, k = 5): # k - number of neighbors.\n",
    "    if len(data) >= k:\n",
    "        warnings.warn('The data consist of more classes than K...Please set the K value greater than the number of classes...')\n",
    "        \n",
    "    distances = [] # setting empty list to store all the distances\n",
    "    \n",
    "    for labels in data:\n",
    "        for coordinates in data[labels]:\n",
    "            euclidean_distance = np.linalg.norm(np.array(coordinates) - np.array(predict)) #calculating Euclidean distance\n",
    "            distances.append((euclidean_distance, labels)) #appending each distances, labels to the list.\n",
    "            \n",
    "    groups = [d[1] for d in sorted(distances)[:k]]           # for d in sorted(distances)[:k]:\n",
    "                                                             #     groups = d[1]\n",
    "    group = Counter(groups).most_common(1)[0][0]  # fetching the more occurence group/class       \n",
    "    confidence = Counter(groups).most_common(1)[0][1] / k  # how likely the patient belongs to some group/class (probability) \n",
    "    \n",
    "    return group, confidence"
   ]
  },
  {
   "cell_type": "code",
   "execution_count": 9,
   "metadata": {},
   "outputs": [
    {
     "name": "stdout",
     "output_type": "stream",
     "text": [
      "0.8\n",
      "0.8\n",
      "1.0\n",
      "0.6\n",
      "0.8\n",
      "Accuracy =  0.9712643678160919 %\n"
     ]
    }
   ],
   "source": [
    "correct = 0  #number of correct predictions\n",
    "total = 0  #number of total predictions\n",
    "\n",
    "for labels in test_data:  # Runs number of classes times.\n",
    "    for coordinates in test_data[labels]:  #Runs number of data inside each class.\n",
    "        \n",
    "        group, confidence = k_nearest_neighbors(train_data, coordinates, k = 5) # Passing the training data and new datapoints \n",
    "                                                                                # to the K-NN algorithm.\n",
    "                                                                            # coordinates is the new datapoint to be predicted.\n",
    "        if labels == group:    # group is the prediction of new datapoint (predicted class) which is compared with real class\n",
    "                               # of the new datapoint.\n",
    "                \n",
    "            correct += 1       # if both are same then correct is added by 1\n",
    "            \n",
    "        else:\n",
    "            print(confidence)  # if both are not same then print the probability of incorrectness in prediction\n",
    "            \n",
    "        total += 1\n",
    "        \n",
    "print(\"Accuracy = \", correct / total, \"%\") # Accuracy of the model"
   ]
  },
  {
   "cell_type": "markdown",
   "metadata": {},
   "source": [
    "# Thank you.......................................!!"
   ]
  }
 ],
 "metadata": {
  "kernelspec": {
   "display_name": "Python 3",
   "language": "python",
   "name": "python3"
  },
  "language_info": {
   "codemirror_mode": {
    "name": "ipython",
    "version": 3
   },
   "file_extension": ".py",
   "mimetype": "text/x-python",
   "name": "python",
   "nbconvert_exporter": "python",
   "pygments_lexer": "ipython3",
   "version": "3.7.6"
  }
 },
 "nbformat": 4,
 "nbformat_minor": 4
}
